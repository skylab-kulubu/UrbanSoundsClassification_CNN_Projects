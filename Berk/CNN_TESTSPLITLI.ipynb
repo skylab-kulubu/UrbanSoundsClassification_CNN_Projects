{
 "cells": [
  {
   "cell_type": "code",
   "execution_count": 1,
   "id": "f55baec2",
   "metadata": {},
   "outputs": [
    {
     "name": "stderr",
     "output_type": "stream",
     "text": [
      "C:\\Users\\berke\\anaconda3\\lib\\site-packages\\scipy\\__init__.py:155: UserWarning: A NumPy version >=1.18.5 and <1.25.0 is required for this version of SciPy (detected version 1.26.4\n",
      "  warnings.warn(f\"A NumPy version >={np_minversion} and <{np_maxversion}\"\n"
     ]
    }
   ],
   "source": [
    "import cv2\n",
    "import os\n",
    "import numpy as np\n",
    "import seaborn as sns\n",
    "import pandas as pd\n",
    "import matplotlib.pyplot as plt"
   ]
  },
  {
   "cell_type": "code",
   "execution_count": 2,
   "id": "bd23f149",
   "metadata": {},
   "outputs": [],
   "source": [
    "def listing(klasor,a):\n",
    "    list1 = []\n",
    "    list2 = []\n",
    "    for dosya_adi in os.listdir(klasor):\n",
    "        dosya_yolu = os.path.join(klasor, dosya_adi)\n",
    "        \n",
    "        if dosya_adi.endswith(('.png', '.jpg', '.jpeg')):\n",
    "            \n",
    "            resim = cv2.imread(dosya_yolu, cv2.IMREAD_GRAYSCALE)#GRAYSCALEDE OKUMAK\n",
    "            resim = cv2.resize(resim, (128,128))#RESİZELAMAK\n",
    "            list1.append(resim)\n",
    "            list2.append(a)\n",
    "            \n",
    "            \n",
    "    return list1,list2"
   ]
  },
  {
   "cell_type": "code",
   "execution_count": 3,
   "id": "293314c5",
   "metadata": {},
   "outputs": [
    {
     "data": {
      "text/plain": [
       "(None, None)"
      ]
     },
     "execution_count": 3,
     "metadata": {},
     "output_type": "execute_result"
    }
   ],
   "source": [
    "klasor_yolu = r\"C:\\Users\\berke\\CNN_PROJECT\\0\"\n",
    "listx,listy = listing(klasor_yolu,0)\n",
    "klasor_yolu = r\"C:\\Users\\berke\\CNN_PROJECT\\1\"\n",
    "lista,listb = listing(klasor_yolu,1)\n",
    "listx.extend(lista),listy.extend(listb)\n",
    "klasor_yolu = r\"C:\\Users\\berke\\CNN_PROJECT\\2\"\n",
    "lista,listb = listing(klasor_yolu,2)\n",
    "listx.extend(lista),listy.extend(listb)\n",
    "klasor_yolu = r\"C:\\Users\\berke\\CNN_PROJECT\\3\"\n",
    "lista,listb = listing(klasor_yolu,3)\n",
    "listx.extend(lista),listy.extend(listb)\n",
    "klasor_yolu = r\"C:\\Users\\berke\\CNN_PROJECT\\4\"\n",
    "lista,listb = listing(klasor_yolu,4)\n",
    "listx.extend(lista),listy.extend(listb)\n",
    "klasor_yolu = r\"C:\\Users\\berke\\CNN_PROJECT\\5\"\n",
    "lista,listb = listing(klasor_yolu,5)\n",
    "listx.extend(lista),listy.extend(listb)\n",
    "klasor_yolu = r\"C:\\Users\\berke\\CNN_PROJECT\\6\"\n",
    "lista,listb = listing(klasor_yolu,6)\n",
    "listx.extend(lista),listy.extend(listb)\n",
    "klasor_yolu = r\"C:\\Users\\berke\\CNN_PROJECT\\7\"\n",
    "lista,listb = listing(klasor_yolu,7)\n",
    "listx.extend(lista),listy.extend(listb)\n",
    "klasor_yolu = r\"C:\\Users\\berke\\CNN_PROJECT\\8\"\n",
    "lista,listb = listing(klasor_yolu,8)\n",
    "listx.extend(lista),listy.extend(listb)\n",
    "klasor_yolu = r\"C:\\Users\\berke\\CNN_PROJECT\\8\"\n",
    "lista,listb = listing(klasor_yolu,9)\n",
    "listx.extend(lista),listy.extend(listb)"
   ]
  },
  {
   "cell_type": "code",
   "execution_count": 4,
   "id": "0cbd190a",
   "metadata": {},
   "outputs": [],
   "source": [
    "len(listx)\n",
    "listx = np.array(listx)"
   ]
  },
  {
   "cell_type": "code",
   "execution_count": 5,
   "id": "e2430c72",
   "metadata": {},
   "outputs": [],
   "source": [
    "len(listy)\n",
    "listy = np.array(listy)"
   ]
  },
  {
   "cell_type": "code",
   "execution_count": 6,
   "id": "42317ffa",
   "metadata": {},
   "outputs": [],
   "source": [
    "cv2.imshow('Resim',listx[8660])\n",
    "cv2.waitKey(0)\n",
    "cv2.destroyAllWindows()"
   ]
  },
  {
   "cell_type": "code",
   "execution_count": 7,
   "id": "9e6c7032",
   "metadata": {},
   "outputs": [],
   "source": [
    "for a in listx:#normalizasyon\n",
    "    i = 0\n",
    "    listx[i] = a / 255.0\n",
    "    i = i + 1\n",
    "\n",
    "\n",
    "listx = np.expand_dims(listx, axis=-1)"
   ]
  },
  {
   "cell_type": "code",
   "execution_count": 8,
   "id": "b1be21b0",
   "metadata": {},
   "outputs": [
    {
     "name": "stdout",
     "output_type": "stream",
     "text": [
      "WARNING:tensorflow:From C:\\Users\\berke\\anaconda3\\lib\\site-packages\\keras\\src\\losses.py:2976: The name tf.losses.sparse_softmax_cross_entropy is deprecated. Please use tf.compat.v1.losses.sparse_softmax_cross_entropy instead.\n",
      "\n"
     ]
    }
   ],
   "source": [
    "from tensorflow.keras.utils import to_categorical\n",
    "listy = to_categorical(listy, num_classes = 10)"
   ]
  },
  {
   "cell_type": "code",
   "execution_count": 9,
   "id": "489f6dad",
   "metadata": {},
   "outputs": [],
   "source": [
    "from sklearn.model_selection import train_test_split\n",
    "X_train, X_val, Y_train, Y_val = train_test_split(listx, listy, test_size = 0.1, random_state=2)"
   ]
  },
  {
   "cell_type": "code",
   "execution_count": 10,
   "id": "60f155e8",
   "metadata": {},
   "outputs": [
    {
     "name": "stdout",
     "output_type": "stream",
     "text": [
      "WARNING:tensorflow:From C:\\Users\\berke\\anaconda3\\lib\\site-packages\\keras\\src\\backend.py:873: The name tf.get_default_graph is deprecated. Please use tf.compat.v1.get_default_graph instead.\n",
      "\n",
      "WARNING:tensorflow:From C:\\Users\\berke\\anaconda3\\lib\\site-packages\\keras\\src\\layers\\pooling\\max_pooling2d.py:161: The name tf.nn.max_pool is deprecated. Please use tf.nn.max_pool2d instead.\n",
      "\n",
      "WARNING:tensorflow:From C:\\Users\\berke\\anaconda3\\lib\\site-packages\\keras\\src\\optimizers\\__init__.py:309: The name tf.train.Optimizer is deprecated. Please use tf.compat.v1.train.Optimizer instead.\n",
      "\n"
     ]
    }
   ],
   "source": [
    "from sklearn.metrics import confusion_matrix\n",
    "import itertools\n",
    "\n",
    "from tensorflow.keras.models import Sequential\n",
    "from tensorflow.keras.layers import Dense, Dropout, Flatten, Conv2D, MaxPool2D\n",
    "from tensorflow.keras.optimizers import RMSprop,Adam\n",
    "from tensorflow.keras.preprocessing.image import ImageDataGenerator\n",
    "from tensorflow.keras.callbacks import ReduceLROnPlateau\n",
    "\n",
    "model = Sequential()\n",
    "#başlangıç ve conv1\n",
    "model.add(Conv2D(filters = 8, kernel_size = (5,5),padding = 'Same', activation ='relu', input_shape = (128,128,1)))\n",
    "model.add(MaxPool2D(pool_size=(2,2)))\n",
    "#model.add(Dropout(0.25))\n",
    "#conv2\n",
    "model.add(Conv2D(filters = 16, kernel_size = (3,3),padding = 'Same', activation ='relu'))\n",
    "model.add(MaxPool2D(pool_size=(2,2), strides=(2,2)))\n",
    "#model.add(Dropout(0.25))\n",
    "# fully connected\n",
    "model.add(Flatten())\n",
    "model.add(Dense(256, activation = \"relu\"))\n",
    "model.add(Dropout(0.3))\n",
    "model.add(Dense(10, activation='softmax'))\n",
    "model.compile(optimizer='adam', loss='categorical_crossentropy', metrics=['accuracy'])\n"
   ]
  },
  {
   "cell_type": "code",
   "execution_count": 11,
   "id": "c9eee6bc",
   "metadata": {},
   "outputs": [
    {
     "name": "stdout",
     "output_type": "stream",
     "text": [
      "Epoch 1/10\n",
      "WARNING:tensorflow:From C:\\Users\\berke\\anaconda3\\lib\\site-packages\\keras\\src\\utils\\tf_utils.py:492: The name tf.ragged.RaggedTensorValue is deprecated. Please use tf.compat.v1.ragged.RaggedTensorValue instead.\n",
      "\n",
      "WARNING:tensorflow:From C:\\Users\\berke\\anaconda3\\lib\\site-packages\\keras\\src\\engine\\base_layer_utils.py:384: The name tf.executing_eagerly_outside_functions is deprecated. Please use tf.compat.v1.executing_eagerly_outside_functions instead.\n",
      "\n",
      "78/78 [==============================] - 9s 105ms/step - loss: 23.4265 - accuracy: 0.2734 - precision: 0.3365 - recall: 0.1310 - val_loss: 1.5629 - val_accuracy: 0.4533 - val_precision: 0.7030 - val_recall: 0.1338\n",
      "Epoch 2/10\n",
      "78/78 [==============================] - 8s 101ms/step - loss: 1.5092 - accuracy: 0.4369 - precision: 0.6791 - recall: 0.2216 - val_loss: 1.2553 - val_accuracy: 0.5548 - val_precision: 0.7596 - val_recall: 0.2514\n",
      "Epoch 3/10\n",
      "78/78 [==============================] - 8s 98ms/step - loss: 1.2605 - accuracy: 0.5251 - precision: 0.7373 - recall: 0.3270 - val_loss: 1.0591 - val_accuracy: 0.6055 - val_precision: 0.7376 - val_recall: 0.3599\n",
      "Epoch 4/10\n",
      "78/78 [==============================] - 8s 99ms/step - loss: 1.0995 - accuracy: 0.5734 - precision: 0.7444 - recall: 0.4020 - val_loss: 1.0062 - val_accuracy: 0.6401 - val_precision: 0.7591 - val_recall: 0.4579\n",
      "Epoch 5/10\n",
      "78/78 [==============================] - 8s 98ms/step - loss: 0.9949 - accuracy: 0.6196 - precision: 0.7657 - recall: 0.4611 - val_loss: 0.8964 - val_accuracy: 0.6632 - val_precision: 0.7645 - val_recall: 0.4717\n",
      "Epoch 6/10\n",
      "78/78 [==============================] - 8s 102ms/step - loss: 0.8926 - accuracy: 0.6405 - precision: 0.7762 - recall: 0.5023 - val_loss: 0.8078 - val_accuracy: 0.6759 - val_precision: 0.7689 - val_recall: 0.5409\n",
      "Epoch 7/10\n",
      "78/78 [==============================] - 8s 101ms/step - loss: 0.8017 - accuracy: 0.6777 - precision: 0.8025 - recall: 0.5562 - val_loss: 0.7859 - val_accuracy: 0.6759 - val_precision: 0.7778 - val_recall: 0.5571\n",
      "Epoch 8/10\n",
      "78/78 [==============================] - 8s 99ms/step - loss: 0.7522 - accuracy: 0.6913 - precision: 0.8086 - recall: 0.5771 - val_loss: 0.7373 - val_accuracy: 0.7082 - val_precision: 0.7730 - val_recall: 0.6205\n",
      "Epoch 9/10\n",
      "78/78 [==============================] - 8s 99ms/step - loss: 0.6804 - accuracy: 0.7162 - precision: 0.8150 - recall: 0.6076 - val_loss: 0.7755 - val_accuracy: 0.7047 - val_precision: 0.7824 - val_recall: 0.6055\n",
      "Epoch 10/10\n",
      "78/78 [==============================] - 8s 100ms/step - loss: 0.6452 - accuracy: 0.7234 - precision: 0.8130 - recall: 0.6271 - val_loss: 0.7456 - val_accuracy: 0.6874 - val_precision: 0.7837 - val_recall: 0.5975\n"
     ]
    }
   ],
   "source": [
    "from tensorflow.keras.metrics import Precision, Recall\n",
    "\n",
    "batch_size = 100\n",
    "EPOCHS = 10\n",
    "\n",
    "METRICS = metrics=['accuracy',\n",
    "               Precision(name='precision'),\n",
    "               Recall(name='recall')]\n",
    "\n",
    "model.compile(optimizer='adam',\n",
    "            loss='categorical_crossentropy',\n",
    "            metrics = METRICS)\n",
    "\n",
    "# Train the model\n",
    "training_history = model.fit(X_train, Y_train,\n",
    "                    epochs=EPOCHS, batch_size=batch_size,\n",
    "                    validation_data=(X_val, Y_val))"
   ]
  },
  {
   "cell_type": "code",
   "execution_count": 12,
   "id": "b0cd2331",
   "metadata": {},
   "outputs": [],
   "source": [
    "def show_performance_curve(training_result, metric, metric_label):\n",
    "    \n",
    "    train_perf = training_result.history[str(metric)]\n",
    "    validation_perf = training_result.history['val_accuracy']\n",
    "    \n",
    "    plt.plot(train_perf, label=metric_label)\n",
    "    plt.plot(validation_perf, label = 'val_'+str(metric))\n",
    "             \n",
    "    plt.xlabel('Epoch')\n",
    "    plt.ylabel(metric_label)\n",
    "    plt.legend(loc='lower right')"
   ]
  },
  {
   "cell_type": "code",
   "execution_count": 13,
   "id": "f4f95bf6",
   "metadata": {},
   "outputs": [
    {
     "data": {
      "image/png": "[encoded data removed]",
      "text/plain": [
       "<Figure size 640x480 with 1 Axes>"
      ]
     },
     "metadata": {},
     "output_type": "display_data"
    }
   ],
   "source": [
    "show_performance_curve(training_history, 'accuracy', 'accuracy')"
   ]
  },
  {
   "cell_type": "code",
   "execution_count": 14,
   "id": "07bcc255",
   "metadata": {},
   "outputs": [],
   "source": [
    "def show_loss_curve(training_result):\n",
    "    \n",
    "    loss_perf = training_result.history['loss']\n",
    "    vall_loss = training_result.history['val_loss']\n",
    "    \n",
    "    plt.plot(loss_perf, label = 'loss')\n",
    "    plt.plot(vall_loss, label= 'vall_loss')\n",
    "    \n",
    "             \n",
    "    plt.xlabel('Epoch')\n",
    "    plt.ylabel('Loss')\n",
    "    plt.legend(loc='lower right')"
   ]
  },
  {
   "cell_type": "code",
   "execution_count": 15,
   "id": "0205d4e2",
   "metadata": {
    "scrolled": false
   },
   "outputs": [
    {
     "data": {
      "image/png": "[encoded data removed]",
      "text/plain": [
       "<Figure size 640x480 with 1 Axes>"
      ]
     },
     "metadata": {},
     "output_type": "display_data"
    }
   ],
   "source": [
    "show_loss_curve(training_history)"
   ]
  },
  {
   "cell_type": "code",
   "execution_count": null,
   "id": "620e23ed",
   "metadata": {},
   "outputs": [],
   "source": []
  },
  {
   "cell_type": "code",
   "execution_count": null,
   "id": "bfdbf045",
   "metadata": {},
   "outputs": [],
   "source": []
  }
 ],
 "metadata": {
  "kernelspec": {
   "display_name": "Python 3 (ipykernel)",
   "language": "python",
   "name": "python3"
  },
  "language_info": {
   "codemirror_mode": {
    "name": "ipython",
    "version": 3
   },
   "file_extension": ".py",
   "mimetype": "text/x-python",
   "name": "python",
   "nbconvert_exporter": "python",
   "pygments_lexer": "ipython3",
   "version": "3.9.13"
  }
 },
 "nbformat": 4,
 "nbformat_minor": 5
}
