{
 "cells": [
  {
   "cell_type": "code",
   "execution_count": 18,
   "id": "1b231900-a0a8-4905-a739-79f08047ea40",
   "metadata": {},
   "outputs": [],
   "source": [
    "import os\n",
    "import numpy as np\n",
    "import pandas as pd\n",
    "from PIL import Image\n",
    "\n",
    "import tensorflow as tf\n",
    "from tensorflow.keras import datasets, layers, models\n",
    "import matplotlib.pyplot as plt\n",
    "\n",
    "from sklearn.model_selection import train_test_split"
   ]
  },
  {
   "cell_type": "code",
   "execution_count": 36,
   "id": "5fa209a1-077f-4460-8cc7-1ee918f4f37d",
   "metadata": {},
   "outputs": [],
   "source": [
    "images = []\n",
    "labels = []\n",
    "folder_a = \"UrbanImage\"\n",
    "folder_names = os.listdir(folder_a)"
   ]
  },
  {
   "cell_type": "code",
   "execution_count": 37,
   "id": "46080ffe-c68a-4859-b9fa-45f519c75377",
   "metadata": {},
   "outputs": [],
   "source": [
    "for folder_name in folder_names:\n",
    "    folder_path = os.path.join(folder_a, folder_name)\n",
    "    \n",
    "    for image_name in os.listdir(folder_path):\n",
    "        image_path = os.path.join(folder_path, image_name)\n",
    "        \n",
    "        with Image.open(image_path) as image:\n",
    "            npImage = np.array(image)\n",
    "            images.append(npImage)\n",
    "            labels.append(int(folder_name))\n"
   ]
  },
  {
   "cell_type": "code",
   "execution_count": 39,
   "id": "9c27ff0c-24b0-4142-aad5-21617a0344eb",
   "metadata": {},
   "outputs": [],
   "source": [
    "X = np.array(images)\n",
    "X = X / 255.0\n",
    "y = np.array(labels)"
   ]
  },
  {
   "cell_type": "code",
   "execution_count": 40,
   "id": "50393797-35f2-48ea-bd06-5fd978cf5096",
   "metadata": {},
   "outputs": [],
   "source": [
    "X_train, X_test, y_train, y_test = train_test_split(X, y, test_size=0.33, random_state=42)"
   ]
  },
  {
   "cell_type": "code",
   "execution_count": 48,
   "id": "ab9c2de5-fe06-4184-8fb5-29fa24a5cdab",
   "metadata": {},
   "outputs": [
    {
     "name": "stdout",
     "output_type": "stream",
     "text": [
      "Model: \"sequential_4\"\n",
      "_________________________________________________________________\n",
      " Layer (type)                Output Shape              Param #   \n",
      "=================================================================\n",
      " conv2d_12 (Conv2D)          (None, 126, 126, 32)      320       \n",
      "                                                                 \n",
      " max_pooling2d_8 (MaxPoolin  (None, 63, 63, 32)        0         \n",
      " g2D)                                                            \n",
      "                                                                 \n",
      " conv2d_13 (Conv2D)          (None, 61, 61, 64)        18496     \n",
      "                                                                 \n",
      " max_pooling2d_9 (MaxPoolin  (None, 30, 30, 64)        0         \n",
      " g2D)                                                            \n",
      "                                                                 \n",
      " conv2d_14 (Conv2D)          (None, 28, 28, 64)        36928     \n",
      "                                                                 \n",
      " flatten_4 (Flatten)         (None, 50176)             0         \n",
      "                                                                 \n",
      " dense_8 (Dense)             (None, 64)                3211328   \n",
      "                                                                 \n",
      " dropout (Dropout)           (None, 64)                0         \n",
      "                                                                 \n",
      " dense_9 (Dense)             (None, 10)                650       \n",
      "                                                                 \n",
      "=================================================================\n",
      "Total params: 3267722 (12.47 MB)\n",
      "Trainable params: 3267722 (12.47 MB)\n",
      "Non-trainable params: 0 (0.00 Byte)\n",
      "_________________________________________________________________\n"
     ]
    }
   ],
   "source": [
    "model = models.Sequential()\n",
    "model.add(layers.Conv2D(32, (3, 3), activation='relu', input_shape=(128, 128, 1)))\n",
    "model.add(layers.MaxPooling2D((2, 2)))\n",
    "model.add(layers.Conv2D(64, (3, 3), activation='relu'))\n",
    "model.add(layers.MaxPooling2D((2, 2)))\n",
    "model.add(layers.Conv2D(64, (3, 3), activation='relu'))\n",
    "model.add(layers.Flatten())\n",
    "model.add(layers.Dense(64, activation='relu'))\n",
    "model.add(layers.Dropout(0.5))\n",
    "model.add(layers.Dense(10, activation='softmax'))\n",
    "model.summary()"
   ]
  },
  {
   "cell_type": "code",
   "execution_count": 49,
   "id": "ba4d3565-4e64-4870-9ee5-3d2cbf08ed0d",
   "metadata": {},
   "outputs": [
    {
     "name": "stdout",
     "output_type": "stream",
     "text": [
      "Epoch 1/10\n",
      "183/183 [==============================] - 22s 114ms/step - loss: 1.6293 - accuracy: 0.4147 - val_loss: 1.0207 - val_accuracy: 0.6641\n",
      "Epoch 2/10\n",
      "183/183 [==============================] - 20s 110ms/step - loss: 1.0837 - accuracy: 0.6299 - val_loss: 0.7741 - val_accuracy: 0.7477\n",
      "Epoch 3/10\n",
      "183/183 [==============================] - 20s 112ms/step - loss: 0.8585 - accuracy: 0.7171 - val_loss: 0.6362 - val_accuracy: 0.8019\n",
      "Epoch 4/10\n",
      "183/183 [==============================] - 20s 110ms/step - loss: 0.6778 - accuracy: 0.7733 - val_loss: 0.5543 - val_accuracy: 0.8324\n",
      "Epoch 5/10\n",
      "183/183 [==============================] - 20s 110ms/step - loss: 0.5426 - accuracy: 0.8108 - val_loss: 0.4880 - val_accuracy: 0.8428\n",
      "Epoch 6/10\n",
      "183/183 [==============================] - 21s 113ms/step - loss: 0.4306 - accuracy: 0.8480 - val_loss: 0.4606 - val_accuracy: 0.8664\n",
      "Epoch 7/10\n",
      "183/183 [==============================] - 20s 111ms/step - loss: 0.3717 - accuracy: 0.8672 - val_loss: 0.5025 - val_accuracy: 0.8633\n",
      "Epoch 8/10\n",
      "183/183 [==============================] - 21s 113ms/step - loss: 0.3231 - accuracy: 0.8872 - val_loss: 0.4717 - val_accuracy: 0.8688\n",
      "Epoch 9/10\n",
      "183/183 [==============================] - 21s 113ms/step - loss: 0.2738 - accuracy: 0.9038 - val_loss: 0.5038 - val_accuracy: 0.8761\n",
      "Epoch 10/10\n",
      "183/183 [==============================] - 21s 113ms/step - loss: 0.2333 - accuracy: 0.9186 - val_loss: 0.5314 - val_accuracy: 0.8713\n"
     ]
    }
   ],
   "source": [
    "model.compile(optimizer='adam', loss=tf.keras.losses.SparseCategoricalCrossentropy(from_logits=True), metrics=['accuracy'])\n",
    "\n",
    "history = model.fit(X_train, y_train, epochs=10, validation_data=(X_test, y_test))"
   ]
  },
  {
   "cell_type": "code",
   "execution_count": 50,
   "id": "5a501b53-a853-4206-975c-a0966aad4edb",
   "metadata": {},
   "outputs": [
    {
     "name": "stdout",
     "output_type": "stream",
     "text": [
      "91/91 - 2s - loss: 0.5314 - accuracy: 0.8713 - 2s/epoch - 25ms/step\n"
     ]
    },
    {
     "data": {
      "image/png": "[encoded data removed]",
      "text/plain": [
       "<Figure size 640x480 with 1 Axes>"
      ]
     },
     "metadata": {},
     "output_type": "display_data"
    }
   ],
   "source": [
    "plt.plot(history.history['accuracy'], label='accuracy')\n",
    "plt.plot(history.history['val_accuracy'], label = 'val_accuracy')\n",
    "plt.xlabel('Epoch')\n",
    "plt.ylabel('Accuracy')\n",
    "plt.ylim([0.5, 1])\n",
    "plt.legend(loc='lower right')\n",
    "\n",
    "test_loss, test_acc = model.evaluate(X_test,  y_test, verbose=2)"
   ]
  },
  {
   "cell_type": "code",
   "execution_count": 51,
   "id": "9f12f408-3702-49e5-8b07-6a2bebd217ad",
   "metadata": {},
   "outputs": [
    {
     "name": "stdout",
     "output_type": "stream",
     "text": [
      "0.871269941329956\n"
     ]
    }
   ],
   "source": [
    "print(test_acc)"
   ]
  },
  {
   "cell_type": "code",
   "execution_count": 55,
   "id": "b06d3352-1078-4fc4-8b54-fb535e0f04df",
   "metadata": {},
   "outputs": [],
   "source": [
    "model.save('my_model.keras')"
   ]
  },
  {
   "cell_type": "code",
   "execution_count": 56,
   "id": "42326020-3821-42ce-9bb7-68da4be8221d",
   "metadata": {},
   "outputs": [],
   "source": [
    "loaded_model = tf.keras.models.load_model('my_model.keras')"
   ]
  },
  {
   "cell_type": "code",
   "execution_count": null,
   "id": "e5d1c1ca-1c65-4b6e-900b-8357d3586b86",
   "metadata": {},
   "outputs": [],
   "source": []
  }
 ],
 "metadata": {
  "kernelspec": {
   "display_name": "Python 3 (ipykernel)",
   "language": "python",
   "name": "python3"
  },
  "language_info": {
   "codemirror_mode": {
    "name": "ipython",
    "version": 3
   },
   "file_extension": ".py",
   "mimetype": "text/x-python",
   "name": "python",
   "nbconvert_exporter": "python",
   "pygments_lexer": "ipython3",
   "version": "3.9.7"
  }
 },
 "nbformat": 4,
 "nbformat_minor": 5
}
